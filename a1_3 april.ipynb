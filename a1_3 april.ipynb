{
 "cells": [
  {
   "cell_type": "markdown",
   "metadata": {},
   "source": [
    "###### ### The University of Melbourne, School of Computing and Information Systems\n",
    "# COMP30027 Machine Learning, 2023 Semester 1\n",
    "\n",
    "## Assignment 1: Music genre classification with naive Bayes\n"
   ]
  },
  {
   "cell_type": "markdown",
   "metadata": {},
   "source": [
    "**Student ID(s):**     `PLEASE ENTER YOUR ID(S) HERE`\n"
   ]
  },
  {
   "cell_type": "markdown",
   "metadata": {},
   "source": [
    "This iPython notebook is a template which you will use for your Assignment 1 submission.\n",
    "\n",
    "Marking will be applied on the four functions that are defined in this notebook, and to your responses to the questions at the end of this notebook (Submitted in a separate PDF file).\n",
    "\n",
    "**NOTE: YOU SHOULD ADD YOUR RESULTS, DIAGRAMS AND IMAGES FROM YOUR OBSERVATIONS IN THIS FILE TO YOUR REPORT (the PDF file).**\n",
    "\n",
    "You may change the prototypes of these functions, and you may write other functions, according to your requirements. We would appreciate it if the required functions were prominent/easy to find.\n",
    "\n",
    "**Adding proper comments to your code is MANDATORY. **"
   ]
  },
  {
   "cell_type": "code",
   "execution_count": 179,
   "metadata": {},
   "outputs": [],
   "source": [
    "# This function should prepare the data by reading it from a file and converting it into a useful format for training and testing\n",
    "import pandas as pd\n",
    "import math\n",
    "import matplotlib.pyplot as plt\n",
    "import numpy as np\n",
    "from scipy.stats import norm\n",
    "from sklearn.metrics import accuracy_score, precision_score, recall_score\n",
    "from sklearn.model_selection import KFold, cross_val_score, train_test_split\n",
    "\n",
    "def preprocess(data):\n",
    "    data = pd.read_csv(data)\n",
    "    data = data.drop([\"filename\"], axis = 1)\n",
    "    return data"
   ]
  },
  {
   "cell_type": "code",
   "execution_count": 180,
   "metadata": {},
   "outputs": [],
   "source": [
    "# This function should calculat prior probabilities and likelihoods from the training data and using\n",
    "# them to build a naive Bayes model\n",
    "\n",
    "def train(data):\n",
    "    \n",
    "    n = len(data)\n",
    "    prior_prob = []\n",
    "    labels = data.values[:,-1]\n",
    "    unique_labels, counts = np.unique(labels, return_counts=True)\n",
    "    \n",
    "    #calculating prior probabilities\n",
    "    for i in range(len(unique_labels)):\n",
    "        prior_prob.insert(i, (counts[i] / n).round(2))\n",
    "    \n",
    "    unique_labels = np.unique(data.values[:,-1])\n",
    "    unique_labels = list(unique_labels)\n",
    "    \n",
    "    features_list = list(data.columns)\n",
    "    features_list.remove('label')\n",
    "    \n",
    "    mean = [ [] for i in range(len(unique_labels)) ]\n",
    "    variance = [ [] for i in range(len(unique_labels)) ]\n",
    "    \n",
    "    for feature in features_list:\n",
    "        for label in unique_labels:\n",
    "            feature_values = data[feature].loc[data['label'] == label]\n",
    "            mean[unique_labels.index(label)].insert(features_list.index(feature), np.mean(feature_values))\n",
    "            variance[unique_labels.index(label)].insert(features_list.index(feature), np.var(feature_values))\n",
    "    \n",
    "    mean_var = []\n",
    "    for i in range(len(mean)):\n",
    "        mean_row = mean[i]\n",
    "        var_row = variance[i]\n",
    "        for n, value in enumerate(mean_row):\n",
    "            mean_val = value\n",
    "            var_val = var_row[n]\n",
    "            mean_var.append([mean_val, var_val])\n",
    "    \n",
    "    mean_var = np.array(mean_var)   \n",
    "    mean_var = np.vsplit(mean_var, len(unique_labels))\n",
    "    \n",
    "    return unique_labels, prior_prob, mean_var"
   ]
  },
  {
   "cell_type": "code",
   "execution_count": 187,
   "metadata": {},
   "outputs": [
    {
     "data": {
      "text/plain": [
       "['classical',\n",
       " 'classical',\n",
       " 'classical',\n",
       " 'classical',\n",
       " 'classical',\n",
       " 'classical',\n",
       " 'classical',\n",
       " 'classical',\n",
       " 'classical',\n",
       " 'classical',\n",
       " 'classical',\n",
       " 'classical',\n",
       " 'classical',\n",
       " 'classical',\n",
       " 'classical',\n",
       " 'classical',\n",
       " 'classical',\n",
       " 'classical',\n",
       " 'classical',\n",
       " 'classical',\n",
       " 'pop',\n",
       " 'pop',\n",
       " 'classical',\n",
       " 'pop',\n",
       " 'pop',\n",
       " 'pop',\n",
       " 'pop',\n",
       " 'pop',\n",
       " 'pop',\n",
       " 'pop',\n",
       " 'pop',\n",
       " 'pop',\n",
       " 'pop',\n",
       " 'pop',\n",
       " 'pop',\n",
       " 'pop',\n",
       " 'pop',\n",
       " 'pop',\n",
       " 'pop',\n",
       " 'pop',\n",
       " 'pop',\n",
       " 'pop',\n",
       " 'pop']"
      ]
     },
     "execution_count": 187,
     "metadata": {},
     "output_type": "execute_result"
    }
   ],
   "source": [
    "# This function should predict classes for new items in a test dataset\n",
    "\n",
    "def predict(test_data):\n",
    "    \n",
    "    def normal_dist(x, mean, var):\n",
    "        exponent = math.exp(-((x - mean) ** 2 / (2 * var)))\n",
    "        return (1 / (math.sqrt(2 * math.pi) * math.sqrt(var))) * exponent\n",
    "    \n",
    "    epsilon = 0.001\n",
    "    predicted_labels = []\n",
    "    for index, instance in test_data.iterrows():\n",
    "        instance = list(instance[:-1])\n",
    "        class_probabilities = []\n",
    "        for i in range(len(labels)):\n",
    "            probabilities = []\n",
    "            for n in range(len(instance)):\n",
    "                prob = normal_dist(instance[n], parameters[i][n][0], parameters[i][n][1])\n",
    "                if prob == 0:\n",
    "                    prob = epsilon\n",
    "                probabilities.insert(n, np.log(prob))\n",
    "            probability = sum(probabilities)\n",
    "            probability = np.log(priors[i]) + probability\n",
    "            class_probabilities.insert(i, probability)\n",
    "            \n",
    "        predicted_labels.insert(index, labels[class_probabilities.index(max(class_probabilities))])\n",
    "\n",
    "    return predicted_labels\n",
    "\n",
    "labels, priors, parameters = train(preprocess(\"pop_vs_classical_train.csv\"))\n",
    "predicted_labels = predict(preprocess(\"pop_vs_classical_test.csv\"))\n",
    "predicted_labels"
   ]
  },
  {
   "cell_type": "code",
   "execution_count": 203,
   "metadata": {},
   "outputs": [],
   "source": [
    "# This function should evaliate the prediction performance by comparing your model’s class outputs to ground\n",
    "# truth labels\n",
    "\n",
    "def evaluate(predicted_labels, test_data, positive_class):\n",
    "    truth_labels = list(test_data.values[:,-1])\n",
    "    tp, fp, tn, fn = 0, 0, 0, 0\n",
    "    \n",
    "#     if len(np.unique(truth_labels)) == 2:\n",
    "#         for n in range(len(predicted_labels)):\n",
    "#             if predicted_labels[n] == positive_class:\n",
    "#                 if truth_labels[n] == positive_class:\n",
    "#                     tp += 1\n",
    "#                 else:\n",
    "#                     fp += 1\n",
    "#             else:\n",
    "#                 if truth_labels[n] == predicted_labels [n]:\n",
    "#                     tn += 1\n",
    "#                 else:\n",
    "#                     fn += 1\n",
    "    \n",
    "#     accuracy = (tp+tn)/(len(predicted_labels))\n",
    "#     precision = tp/(tp+fp)\n",
    "#     recall = tp/(tp+fn)\n",
    "    \n",
    "    if len(np.unique(truth_labels)) == 2: \n",
    "        sk_accuracy = accuracy_score(truth_labels, predicted_labels)\n",
    "        sk_precision = precision_score(truth_labels, predicted_labels, pos_label = positive_class)\n",
    "        sk_recall = recall_score(truth_labels, predicted_labels, pos_label = positive_class)\n",
    "        \n",
    "    else:\n",
    "        sk_accuracy = accuracy_score(truth_labels, predicted_labels)\n",
    "        sk_precision = precision_score(truth_labels, predicted_labels, pos_label = positive_class, average = None)\n",
    "        sk_recall = recall_score(truth_labels, predicted_labels, pos_label = positive_class, average = None)\n",
    "    \n",
    "    return sk_accuracy, sk_precision, sk_recall\n",
    "\n"
   ]
  },
  {
   "cell_type": "markdown",
   "metadata": {},
   "source": [
    "## Task 1. Pop vs. classical music classification\n",
    "\n",
    "#### NOTE: you may develope codes or functions to help respond to the question here, but your formal answer must be submitted separately as a PDF."
   ]
  },
  {
   "cell_type": "code",
   "execution_count": null,
   "metadata": {},
   "outputs": [],
   "source": []
  },
  {
   "cell_type": "markdown",
   "metadata": {},
   "source": [
    "### Q1\n",
    "Compute and report the accuracy, precision, and recall of your model (treat \"classical\" as the \"positive\" class)."
   ]
  },
  {
   "cell_type": "code",
   "execution_count": 199,
   "metadata": {},
   "outputs": [
    {
     "data": {
      "text/plain": [
       "(0.9767441860465116, 0.9523809523809523, 1.0)"
      ]
     },
     "execution_count": 199,
     "metadata": {},
     "output_type": "execute_result"
    }
   ],
   "source": [
    "evaluate(predicted_labels, preprocess(\"pop_vs_classical_test.csv\"), \"classical\")"
   ]
  },
  {
   "cell_type": "markdown",
   "metadata": {},
   "source": [
    "### Q2\n",
    "For each of the features X below, plot the probability density functions P(X|Class = pop) and P(X|Class = classical). If you had to classify pop vs. classical music using just one of these three features, which feature would you use and why? Refer to your plots to support your answer.\n",
    "- spectral centroid mean\n",
    "- harmony mean\n",
    "- tempo"
   ]
  },
  {
   "cell_type": "code",
   "execution_count": 75,
   "metadata": {},
   "outputs": [
    {
     "data": {
      "text/plain": [
       "[<matplotlib.lines.Line2D at 0x26de0ed37f0>]"
      ]
     },
     "execution_count": 75,
     "metadata": {},
     "output_type": "execute_result"
    },
    {
     "data": {
      "image/png": "[encoded data removed]",
      "text/plain": [
       "<Figure size 432x288 with 1 Axes>"
      ]
     },
     "metadata": {
      "needs_background": "light"
     },
     "output_type": "display_data"
    }
   ],
   "source": [
    "data = preprocess(\"pop_vs_classical_train.csv\")\n",
    "features_list = list(data.columns)\n",
    "features_list.remove('label')\n",
    "\n",
    "labels, priors, mean_var = train(data)\n",
    "select_meanvar = []\n",
    "\n",
    "for i in range(len(features_list)):\n",
    "    if features_list[i] in {'chroma_stft_mean', 'harmony_mean', 'tempo'}:\n",
    "        select_meanvar.append([features_list[i], mean_var[0][i][0], math.sqrt(mean_var[0][i][1]), mean_var[1][i][0], math.sqrt(mean_var[1][i][1])])\n",
    "\n",
    "x = np.arange(0, 0.5, 0.001)\n",
    "plt.plot(x, norm.pdf(x, select_meanvar[0][1], select_meanvar[0][2]), label='chroma_stft_mean, pop', color='gold')\n",
    "plt.plot(x, norm.pdf(x, select_meanvar[0][3], select_meanvar[0][4]), label='chroma_stft_mean, classical', color='red')\n",
    "\n",
    "y = np.arange(0, 0.5, 0.001)\n",
    "plt.plot(y, norm.pdf(y, select_meanvar[1][1], select_meanvar[1][2]), label='harmony_mean, pop', color='gold')\n",
    "plt.plot(y, norm.pdf(y, select_meanvar[1][3], select_meanvar[1][4]), label='harmony_mean, classical', color='red')\n",
    "\n",
    "z = np.arange(0, 0.5, 0.001)\n",
    "plt.plot(z, norm.pdf(z, select_meanvar[2][1], select_meanvar[2][2]), label='tempo, pop', color='gold')\n",
    "plt.plot(z, norm.pdf(z, select_meanvar[2][3], select_meanvar[2][4]), label='tempo, classical', color='red')"
   ]
  },
  {
   "cell_type": "markdown",
   "metadata": {},
   "source": [
    "## Task 2. 10-way music genre classification\n",
    "\n",
    "#### NOTE: you may develope codes or functions to help respond to the question here, but your formal answer must be submitted separately as a PDF."
   ]
  },
  {
   "cell_type": "code",
   "execution_count": 206,
   "metadata": {},
   "outputs": [],
   "source": [
    "labels, priors, parameters = train(preprocess(\"gztan_train.csv\"))\n",
    "gztan_predicted_labels = predict(preprocess(\"gztan_test.csv\"))\n",
    "gztan_metrics = evaluate(gztan_predicted_labels, preprocess(\"gztan_test.csv\"), positive_class = None)"
   ]
  },
  {
   "cell_type": "markdown",
   "metadata": {},
   "source": [
    "### Q3\n",
    "Compare the performance of the full model to a 0R baseline and a one-attribute baseline. The one-attribute baseline should be the best possible naive Bayes model which uses only a prior and a single attribute. In your write-up, explain how you implemented the 0R and one-attribute baselines."
   ]
  },
  {
   "cell_type": "code",
   "execution_count": null,
   "metadata": {
    "collapsed": true,
    "jupyter": {
     "outputs_hidden": true
    }
   },
   "outputs": [],
   "source": []
  },
  {
   "cell_type": "markdown",
   "metadata": {},
   "source": [
    "### Q4\n",
    "Train and test your model with a range of training set sizes by setting up your own train/test splits. With each split, use cross-fold validation so you can report the performance on the entire dataset (1000 items). You may use built-in functions to set up cross-validation splits. In your write-up, evaluate how model performance changes with training set size."
   ]
  },
  {
   "cell_type": "code",
   "execution_count": 217,
   "metadata": {},
   "outputs": [
    {
     "name": "stderr",
     "output_type": "stream",
     "text": [
      "C:\\Users\\user\\AppData\\Local\\Programs\\Python\\Python39\\lib\\site-packages\\sklearn\\metrics\\_classification.py:1245: UndefinedMetricWarning: Precision is ill-defined and being set to 0.0 in labels with no predicted samples. Use `zero_division` parameter to control this behavior.\n",
      "  _warn_prf(average, modifier, msg_start, len(result))\n",
      "C:\\Users\\user\\AppData\\Local\\Programs\\Python\\Python39\\lib\\site-packages\\sklearn\\metrics\\_classification.py:1245: UndefinedMetricWarning: Precision is ill-defined and being set to 0.0 in labels with no predicted samples. Use `zero_division` parameter to control this behavior.\n",
      "  _warn_prf(average, modifier, msg_start, len(result))\n"
     ]
    },
    {
     "data": {
      "text/plain": [
       "[0.101, 0.088, 0.09580838323353295, 0.11699999999999999, 0.14300000000000002]"
      ]
     },
     "execution_count": 217,
     "metadata": {},
     "output_type": "execute_result"
    }
   ],
   "source": [
    "test_data = preprocess(\"gztan_test.csv\")\n",
    "train_data = preprocess(\"gztan_train.csv\")\n",
    "X = test_data.append(train_data)\n",
    "\n",
    "k_values = [2, 4, 6, 8, 10]\n",
    "accuracies = [ [] for i in range(len(k_values))]\n",
    "for k in k_values:\n",
    "    for i in range(k):\n",
    "        X_train, X_test = train_test_split(X, y, test_size = (1/k), train_size = (1/k), random_state = i)[0:2]\n",
    "        labels, priors, parameters = train(X_train)\n",
    "        predicted_labels = predict(X_test)\n",
    "        metrics = evaluate(predicted_labels, X_test, positive_class = None)\n",
    "        accuracies[k_values.index(k)].append(metrics[0])\n",
    "\n",
    "mean_accuracies = []\n",
    "for i in range(len(accuracies)):\n",
    "    mean_accuracies.append(np.mean(accuracies[i]))\n",
    "\n",
    "mean_accuracies"
   ]
  },
  {
   "cell_type": "markdown",
   "metadata": {},
   "source": [
    "### Q5\n",
    "Implement a kernel density estimate (KDE) naive Bayes model and compare its performance to your Gaussian naive Bayes model. You may use built-in functions and automatic (\"rule of thumb\") bandwidth selectors to compute the KDE probabilities, but you should implement the naive Bayes logic yourself. You should give the parameters of the KDE implementation (namely, what bandwidth(s) you used and how they were chosen) in your write-up."
   ]
  },
  {
   "cell_type": "code",
   "execution_count": null,
   "metadata": {
    "collapsed": true,
    "jupyter": {
     "outputs_hidden": true
    }
   },
   "outputs": [],
   "source": []
  },
  {
   "cell_type": "markdown",
   "metadata": {},
   "source": [
    "### Q6\n",
    "Modify your naive Bayes model to handle missing attributes in the test data. Recall from lecture that you can handle missing attributes at test by skipping the missing attributes and computing the posterior probability from the non-missing attributes. Randomly delete some attributes from the provided test set to test how robust your model is to missing data. In your write-up, evaluate how your model's performance changes as the amount of missing data increases."
   ]
  },
  {
   "cell_type": "code",
   "execution_count": null,
   "metadata": {
    "collapsed": true,
    "jupyter": {
     "outputs_hidden": true
    }
   },
   "outputs": [],
   "source": []
  }
 ],
 "metadata": {
  "kernelspec": {
   "display_name": "Python 3 (ipykernel)",
   "language": "python",
   "name": "python3"
  },
  "language_info": {
   "codemirror_mode": {
    "name": "ipython",
    "version": 3
   },
   "file_extension": ".py",
   "mimetype": "text/x-python",
   "name": "python",
   "nbconvert_exporter": "python",
   "pygments_lexer": "ipython3",
   "version": "3.9.2"
  }
 },
 "nbformat": 4,
 "nbformat_minor": 4
}
